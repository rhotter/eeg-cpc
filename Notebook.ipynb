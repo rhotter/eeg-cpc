{
 "cells": [
  {
   "cell_type": "code",
   "execution_count": 1,
   "metadata": {},
   "outputs": [],
   "source": [
    "import torch\n",
    "import numpy as np\n",
    "import mne\n",
    "from torch import nn"
   ]
  },
  {
   "cell_type": "code",
   "execution_count": 2,
   "metadata": {},
   "outputs": [],
   "source": [
    "from eegcpc.helper import fetch_data"
   ]
  },
  {
   "cell_type": "code",
   "execution_count": 3,
   "metadata": {},
   "outputs": [],
   "source": [
    "from mne.time_frequency import psd_welch\n",
    "\n",
    "import matplotlib.pyplot as plt"
   ]
  },
  {
   "cell_type": "markdown",
   "metadata": {},
   "source": [
    "## Load Data"
   ]
  },
  {
   "cell_type": "code",
   "execution_count": 169,
   "metadata": {},
   "outputs": [],
   "source": [
    "train_subjects = [i for i in range(0,20)]\n",
    "test_subjects = [i for i in range(20,30)]\n",
    "recordings = [1] # 2 recordings per subject\n",
    "\n",
    "MAPPING = {'EOG horizontal': 'eog',\n",
    "           'Resp oro-nasal': 'misc',\n",
    "           'EMG submental': 'misc',\n",
    "           'Temp rectal': 'misc',\n",
    "           'Event marker': 'misc'}\n",
    "\n",
    "annotation_desc_2_event_id = {'Sleep stage W': 1,\n",
    "                              'Sleep stage 1': 2,\n",
    "                              'Sleep stage 2': 3,\n",
    "                              'Sleep stage 3': 4,\n",
    "                              'Sleep stage 4': 4,\n",
    "                              'Sleep stage R': 5}\n",
    "event_id = {'Sleep stage W': 1,\n",
    "            'Sleep stage 1': 2,\n",
    "            'Sleep stage 2': 3,\n",
    "            'Sleep stage 3/4': 4,\n",
    "            'Sleep stage R': 5} # unifies stages 3 and 4"
   ]
  },
  {
   "cell_type": "code",
   "execution_count": 170,
   "metadata": {},
   "outputs": [],
   "source": [
    "def load_data(subjects, recordings, filter=False):\n",
    "    files = fetch_data(subjects=subjects, recording=recordings)\n",
    "    epochs = []\n",
    "    for x in files:\n",
    "        print(\"Loading\", x[0])\n",
    "        # load the data\n",
    "        edf_file = x[0]\n",
    "        annot_file = x[1]\n",
    "        raw = mne.io.read_raw_edf(edf_file, verbose='ERROR')\n",
    "        annot_train = mne.read_annotations(annot_file)\n",
    "\n",
    "        raw.set_annotations(annot_train, emit_warning=False)\n",
    "        raw.set_channel_types(MAPPING)\n",
    "        \n",
    "        if filter:\n",
    "            raw.load_data()\n",
    "            raw.filter(None, 30., fir_design='firwin') # low pass filter\n",
    "\n",
    "        # extract epochs\n",
    "        events_train, _ = mne.events_from_annotations(\n",
    "            raw, event_id=annotation_desc_2_event_id, chunk_duration=30., verbose='ERROR')\n",
    "\n",
    "        tmax = 30. - 1. / raw.info['sfreq']  # tmax in included\n",
    "        recording_epochs = mne.Epochs(raw=raw, events=events_train,\n",
    "                              event_id=event_id, tmin=0., tmax=tmax, baseline=None, verbose='ERROR')\n",
    "        epochs.append(recording_epochs)\n",
    "    epochs = mne.concatenate_epochs(epochs)\n",
    "    return epochs"
   ]
  },
  {
   "cell_type": "markdown",
   "metadata": {},
   "source": [
    "## Hand Engineered Baseline"
   ]
  },
  {
   "cell_type": "code",
   "execution_count": 171,
   "metadata": {},
   "outputs": [],
   "source": [
    "from sklearn.ensemble import RandomForestClassifier\n",
    "from sklearn.metrics import accuracy_score\n",
    "from sklearn.metrics import confusion_matrix\n",
    "from sklearn.metrics import classification_report\n",
    "from sklearn.pipeline import make_pipeline\n",
    "from sklearn.preprocessing import FunctionTransformer"
   ]
  },
  {
   "cell_type": "code",
   "execution_count": 172,
   "metadata": {},
   "outputs": [
    {
     "name": "stdout",
     "output_type": "stream",
     "text": [
      "Loading /home/raphael_hotter/datasets/SC4001E0-PSG.edf\n",
      "Loading /home/raphael_hotter/datasets/SC4011E0-PSG.edf\n",
      "Loading /home/raphael_hotter/datasets/SC4021E0-PSG.edf\n",
      "Loading /home/raphael_hotter/datasets/SC4031E0-PSG.edf\n",
      "Loading /home/raphael_hotter/datasets/SC4041E0-PSG.edf\n",
      "Loading /home/raphael_hotter/datasets/SC4051E0-PSG.edf\n",
      "Loading /home/raphael_hotter/datasets/SC4061E0-PSG.edf\n",
      "Loading /home/raphael_hotter/datasets/SC4071E0-PSG.edf\n",
      "Loading /home/raphael_hotter/datasets/SC4081E0-PSG.edf\n",
      "Loading /home/raphael_hotter/datasets/SC4091E0-PSG.edf\n",
      "Loading /home/raphael_hotter/datasets/SC4101E0-PSG.edf\n",
      "Loading /home/raphael_hotter/datasets/SC4111E0-PSG.edf\n",
      "Loading /home/raphael_hotter/datasets/SC4121E0-PSG.edf\n",
      "Loading /home/raphael_hotter/datasets/SC4131E0-PSG.edf\n",
      "Loading /home/raphael_hotter/datasets/SC4141E0-PSG.edf\n",
      "Loading /home/raphael_hotter/datasets/SC4151E0-PSG.edf\n",
      "Loading /home/raphael_hotter/datasets/SC4161E0-PSG.edf\n",
      "Loading /home/raphael_hotter/datasets/SC4171E0-PSG.edf\n",
      "Loading /home/raphael_hotter/datasets/SC4181E0-PSG.edf\n",
      "Loading /home/raphael_hotter/datasets/SC4191E0-PSG.edf\n",
      "Loading /home/raphael_hotter/datasets/SC4201E0-PSG.edf\n",
      "Loading /home/raphael_hotter/datasets/SC4211E0-PSG.edf\n",
      "Loading /home/raphael_hotter/datasets/SC4221E0-PSG.edf\n",
      "Loading /home/raphael_hotter/datasets/SC4231E0-PSG.edf\n",
      "Loading /home/raphael_hotter/datasets/SC4241E0-PSG.edf\n",
      "Loading /home/raphael_hotter/datasets/SC4251E0-PSG.edf\n",
      "Loading /home/raphael_hotter/datasets/SC4261F0-PSG.edf\n",
      "Loading /home/raphael_hotter/datasets/SC4271F0-PSG.edf\n",
      "Loading /home/raphael_hotter/datasets/SC4281G0-PSG.edf\n",
      "Loading /home/raphael_hotter/datasets/SC4291G0-PSG.edf\n"
     ]
    }
   ],
   "source": [
    "epochs_train = load_data(train_subjects, recordings, filter=False)\n",
    "epochs_test = load_data(test_subjects, recordings, filter=False)"
   ]
  },
  {
   "cell_type": "code",
   "execution_count": 173,
   "metadata": {},
   "outputs": [],
   "source": [
    "def eeg_power_band(epochs):\n",
    "    \"\"\"EEG relative power band feature extraction.\n",
    "\n",
    "    This function takes an ``mne.Epochs`` object and creates EEG features based\n",
    "    on relative power in specific frequency bands that are compatible with\n",
    "    scikit-learn.\n",
    "\n",
    "    Parameters\n",
    "    ----------\n",
    "    epochs : Epochs\n",
    "        The data.\n",
    "\n",
    "    Returns\n",
    "    -------\n",
    "    X : numpy array of shape [n_samples, 5]\n",
    "        Transformed data.\n",
    "    \"\"\"\n",
    "    # specific frequency bands\n",
    "    FREQ_BANDS = {\"delta\": [0.5, 4.5],\n",
    "                  \"theta\": [4.5, 8.5],\n",
    "                  \"alpha\": [8.5, 11.5],\n",
    "                  \"sigma\": [11.5, 15.5],\n",
    "                  \"beta\": [15.5, 30]}\n",
    "\n",
    "    psds, freqs = psd_welch(epochs, picks='eeg', fmin=0.5, fmax=30.)\n",
    "    # Normalize the PSDs\n",
    "    psds /= np.sum(psds, axis=-1, keepdims=True)\n",
    "\n",
    "    X = []\n",
    "    for fmin, fmax in FREQ_BANDS.values():\n",
    "        psds_band = psds[:, :, (freqs >= fmin) & (freqs < fmax)].mean(axis=-1)\n",
    "        X.append(psds_band.reshape(len(psds), -1))\n",
    "\n",
    "    return np.concatenate(X, axis=1)"
   ]
  },
  {
   "cell_type": "code",
   "execution_count": 174,
   "metadata": {},
   "outputs": [],
   "source": [
    "def hand_engineered_baseline(epochs_train, epochs_test):\n",
    "    pipe = make_pipeline(FunctionTransformer(eeg_power_band, validate=False),\n",
    "                     RandomForestClassifier(n_estimators=100, random_state=42))\n",
    "    # Train\n",
    "    y_train = epochs_train.events[:, 2]\n",
    "    pipe.fit(epochs_train, y_train)\n",
    "\n",
    "    # Test\n",
    "    y_pred = pipe.predict(epochs_test)\n",
    "\n",
    "    # Assess the results\n",
    "    y_test = epochs_test.events[:, 2]\n",
    "    acc = accuracy_score(y_test, y_pred)\n",
    "\n",
    "    print(\"Accuracy score: {}\".format(acc))"
   ]
  },
  {
   "cell_type": "code",
   "execution_count": 175,
   "metadata": {},
   "outputs": [
    {
     "name": "stdout",
     "output_type": "stream",
     "text": [
      "Effective window size : 2.560 (s)\n",
      "Effective window size : 2.560 (s)\n",
      "Accuracy score: 0.8587653416376626\n"
     ]
    }
   ],
   "source": [
    "hand_engineered_baseline(epochs_train, epochs_test)"
   ]
  },
  {
   "cell_type": "markdown",
   "metadata": {},
   "source": [
    "## Supervised Deep Learning Baseline"
   ]
  },
  {
   "cell_type": "code",
   "execution_count": 105,
   "metadata": {},
   "outputs": [],
   "source": [
    "from torch.utils import data\n",
    "from torch import optim"
   ]
  },
  {
   "cell_type": "code",
   "execution_count": 145,
   "metadata": {},
   "outputs": [
    {
     "name": "stdout",
     "output_type": "stream",
     "text": [
      "Loading /home/raphael_hotter/datasets/SC4001E0-PSG.edf\n",
      "Loading /home/raphael_hotter/datasets/SC4011E0-PSG.edf\n",
      "Loading /home/raphael_hotter/datasets/SC4021E0-PSG.edf\n",
      "Loading /home/raphael_hotter/datasets/SC4031E0-PSG.edf\n",
      "Loading /home/raphael_hotter/datasets/SC4041E0-PSG.edf\n",
      "Loading /home/raphael_hotter/datasets/SC4051E0-PSG.edf\n",
      "Loading /home/raphael_hotter/datasets/SC4061E0-PSG.edf\n",
      "Loading /home/raphael_hotter/datasets/SC4071E0-PSG.edf\n",
      "Loading /home/raphael_hotter/datasets/SC4081E0-PSG.edf\n",
      "Loading /home/raphael_hotter/datasets/SC4091E0-PSG.edf\n",
      "Loading /home/raphael_hotter/datasets/SC4201E0-PSG.edf\n",
      "Loading /home/raphael_hotter/datasets/SC4211E0-PSG.edf\n",
      "Loading /home/raphael_hotter/datasets/SC4221E0-PSG.edf\n",
      "Loading /home/raphael_hotter/datasets/SC4231E0-PSG.edf\n",
      "Loading /home/raphael_hotter/datasets/SC4241E0-PSG.edf\n",
      "Loading /home/raphael_hotter/datasets/SC4251E0-PSG.edf\n",
      "Loading /home/raphael_hotter/datasets/SC4261F0-PSG.edf\n",
      "Loading /home/raphael_hotter/datasets/SC4271F0-PSG.edf\n",
      "Loading /home/raphael_hotter/datasets/SC4281G0-PSG.edf\n",
      "Loading /home/raphael_hotter/datasets/SC4291G0-PSG.edf\n"
     ]
    }
   ],
   "source": [
    "epochs_train = load_data(train_subjects, recordings, filter=True)\n",
    "epochs_test = load_data(test_subjects, recordings, filter=True)"
   ]
  },
  {
   "cell_type": "code",
   "execution_count": 146,
   "metadata": {},
   "outputs": [
    {
     "data": {
      "text/plain": [
       "<Epochs  |   27295 events (all good), 0 - 29.99 sec, baseline off, ~1.22 GB, data loaded,\n",
       " 'Sleep stage 1': 1266\n",
       " 'Sleep stage 2': 4861\n",
       " 'Sleep stage 3/4': 713\n",
       " 'Sleep stage R': 1796\n",
       " 'Sleep stage W': 18659>"
      ]
     },
     "execution_count": 146,
     "metadata": {},
     "output_type": "execute_result"
    }
   ],
   "source": [
    "epochs_train.pick_types(eeg=True, verbose='ERROR') # only keep EEG channels\n",
    "epochs_test.pick_types(eeg=True, verbose='ERROR') # only keep EEG channels"
   ]
  },
  {
   "cell_type": "code",
   "execution_count": 154,
   "metadata": {},
   "outputs": [],
   "source": [
    "class EEG_FeatureExtractor(nn.Module):\n",
    "    # based on \"A deep learning architecture for temporal sleep stage\n",
    "    # classification using multivariate and multimodal time series\"\n",
    "\n",
    "  def __init__(self, C, T, k=50, m=13, dropout_prob=0.5, embedding_dim=100, n_spatial_filters=8):\n",
    "    \"\"\"\n",
    "    C: number of EEG channels\n",
    "    T: number of timepoints in a window\n",
    "    k: length of spatial filters (i.e. how much you look in time)\n",
    "    m: maxpool size\n",
    "    n_spatial_filters: number of spatial filters\n",
    "    embedding_dim: embedding dimension (D)\n",
    "    \"\"\"\n",
    "    # input is (1, C, T) <-- notation (channels, dim1, dim2) is different than paper (dim1, dim2, channels)\n",
    "    super().__init__()\n",
    "    self.depthwise_conv = nn.Conv2d(in_channels=1, out_channels=C, kernel_size=(C,1))\n",
    "    self.spatial_padding = torch.nn.ReflectionPad2d((int(np.floor((k-1)/2)),int(np.ceil((k-1)/2)),0,0))\n",
    "    self.spatialwise_conv1 = nn.Conv2d(in_channels=1, out_channels=n_spatial_filters, kernel_size=(1,k))\n",
    "    self.spatialwise_conv2 = nn.Conv2d(in_channels=n_spatial_filters, out_channels=n_spatial_filters, kernel_size=(1,k))\n",
    "    self.relu = nn.ReLU(inplace=True)\n",
    "    self.maxpool = nn.MaxPool2d(kernel_size=(1,m), stride=(1,m))\n",
    "    self.dropout = nn.Dropout(p=dropout_prob, inplace=True)\n",
    "    self.linear = nn.Linear(n_spatial_filters * C * ((T // m) // m), embedding_dim)\n",
    "\n",
    "  def forward(self, x):\n",
    "    # input is (bs, 1, C, T)\n",
    "    bs = x.shape[0]\n",
    "    out = x\n",
    "    out = self.depthwise_conv(out) # (bs, C, 1, T)\n",
    "    out = out.permute(0,2,1,3) # (bs, 1, C, T)\n",
    "    out = self.spatial_padding(out)\n",
    "    out = self.spatialwise_conv1(out) # (bs, n_spatial_filters, C, T)\n",
    "    out = self.relu(out)\n",
    "    out = self.maxpool(out) # (bs, n_spatial_filters, C, T // m)\n",
    "    out = self.spatial_padding(out)\n",
    "    out = self.spatialwise_conv2(out) # (bs, n_spatial_filters, C, T // m)\n",
    "    out = self.relu(out)\n",
    "    out = self.maxpool(out) # (bs, n_spatial_filters, C, (T // m) // m)\n",
    "    out = out.view(bs, -1) # (bs, n_spatial_filters * C * ((T // m) // m))\n",
    "    out = self.dropout(out)\n",
    "    out = self.linear(out) # (bs, embedding_dim)\n",
    "    return out"
   ]
  },
  {
   "cell_type": "code",
   "execution_count": 155,
   "metadata": {},
   "outputs": [],
   "source": [
    "class SupervisedBaseline(nn.Module):\n",
    "    def __init__(self, C, T, n_classes, k=50, m=13, dropout_prob=0.5, n_spatial_filters=8):\n",
    "        super().__init__()\n",
    "        self.feature_extractor = EEG_FeatureExtractor(C, T, k, m, dropout_prob, n_classes, n_spatial_filters)\n",
    "        self.loss_fn = nn.CrossEntropyLoss()\n",
    "\n",
    "    def forward(self, x):\n",
    "        out = self.feature_extractor(x)\n",
    "        return out\n",
    "\n",
    "    def loss(self, x, y_true):\n",
    "        out = self(x)\n",
    "        return self.loss_fn(out, y_true)"
   ]
  },
  {
   "cell_type": "code",
   "execution_count": 156,
   "metadata": {},
   "outputs": [],
   "source": [
    "def train(model, train_loader, optimizer, epoch):\n",
    "  model.train()\n",
    "  \n",
    "  train_losses = []\n",
    "  for pair in train_loader:\n",
    "    x, y = pair[0], pair[1]\n",
    "    x = x.cuda().float().contiguous()\n",
    "    y = y.cuda().long().contiguous()\n",
    "    loss = model.loss(x, y)\n",
    "    optimizer.zero_grad()\n",
    "    loss.backward()\n",
    "    optimizer.step()\n",
    "    train_losses.append(loss.item())\n",
    "  return train_losses\n",
    "\n",
    "def eval_loss(model, data_loader):\n",
    "  model.eval()\n",
    "  total_loss = 0\n",
    "  with torch.no_grad():\n",
    "    for pair in data_loader:\n",
    "      x, y = pair[0], pair[1]\n",
    "      x = x.cuda().float().contiguous()\n",
    "      y = y.cuda().long().contiguous()\n",
    "      loss = model.loss(x, y)\n",
    "      total_loss += loss * x.shape[0]\n",
    "    avg_loss = total_loss / len(data_loader.dataset)\n",
    "\n",
    "  return avg_loss.item()\n",
    "\n",
    "\n",
    "def train_epochs(model, train_loader, test_loader, train_args):\n",
    "  epochs, lr = train_args['epochs'], train_args['lr']\n",
    "  optimizer = optim.Adam(model.parameters(), lr=lr)\n",
    "\n",
    "  train_losses = []\n",
    "  test_losses = [eval_loss(model, test_loader)]\n",
    "  for epoch in range(epochs):\n",
    "    model.train()\n",
    "    train_losses.extend(train(model, train_loader, optimizer, epoch))\n",
    "    test_loss = eval_loss(model, test_loader)\n",
    "    test_losses.append(test_loss)\n",
    "    print(f'Epoch {epoch}, Test loss {test_loss:.4f}')\n",
    "  return train_losses, test_losses"
   ]
  },
  {
   "cell_type": "code",
   "execution_count": 157,
   "metadata": {},
   "outputs": [],
   "source": [
    "def normalize(x):\n",
    "  x_normalized = (x - x.mean(2).reshape(x.shape[0],x.shape[1],1))/(x.std(2).reshape(x.shape[0],x.shape[1],1))\n",
    "  return x_normalized"
   ]
  },
  {
   "cell_type": "code",
   "execution_count": 158,
   "metadata": {},
   "outputs": [],
   "source": [
    "def train_supervised_baseline(epochs_train, epochs_test):\n",
    "  X_train = normalize(epochs_train.get_data())\n",
    "  y_train = epochs_train.events[:, 2] - 1 # start at 0\n",
    "\n",
    "  X_test = normalize(epochs_test.get_data())\n",
    "  y_test = epochs_test.events[:, 2] - 1\n",
    "  \n",
    "  n_classes = y_train.max() - y_train.min() + 1\n",
    "  C = X_train.shape[1] # num channels\n",
    "  T = X_train.shape[2] # window length\n",
    "  model = SupervisedBaseline(C, T, n_classes).cuda()\n",
    "\n",
    "  train_dataset = data.TensorDataset(torch.tensor(X_train).unsqueeze(1), torch.tensor(y_train))\n",
    "  train_loader = data.DataLoader(train_dataset, batch_size=256, shuffle=True)\n",
    "\n",
    "  test_dataset = data.TensorDataset(torch.tensor(X_test).unsqueeze(1), torch.tensor(y_test))\n",
    "  test_loader = data.DataLoader(test_dataset, batch_size=256, shuffle=True)\n",
    "\n",
    "  train_losses, test_losses = train_epochs(model, train_loader, test_loader, \n",
    "                                         dict(epochs=20, lr=1e-3))\n",
    "\n",
    "  return train_losses, test_losses, model"
   ]
  },
  {
   "cell_type": "code",
   "execution_count": 159,
   "metadata": {},
   "outputs": [
    {
     "name": "stdout",
     "output_type": "stream",
     "text": [
      "Epoch 0, Test loss 0.6182\n",
      "Epoch 1, Test loss 0.5615\n",
      "Epoch 2, Test loss 0.5550\n",
      "Epoch 3, Test loss 0.5539\n",
      "Epoch 4, Test loss 0.5995\n",
      "Epoch 5, Test loss 0.5995\n",
      "Epoch 6, Test loss 0.6319\n",
      "Epoch 7, Test loss 0.6275\n",
      "Epoch 8, Test loss 0.6327\n",
      "Epoch 9, Test loss 0.6494\n",
      "Epoch 10, Test loss 0.6436\n",
      "Epoch 11, Test loss 0.6860\n",
      "Epoch 12, Test loss 0.6726\n",
      "Epoch 13, Test loss 0.7008\n",
      "Epoch 14, Test loss 0.6857\n",
      "Epoch 15, Test loss 0.6962\n",
      "Epoch 16, Test loss 0.6918\n",
      "Epoch 17, Test loss 0.7020\n",
      "Epoch 18, Test loss 0.7588\n",
      "Epoch 19, Test loss 0.8093\n"
     ]
    }
   ],
   "source": [
    "train_losses, test_losses, model = train_supervised_baseline(epochs_train, epochs_test)"
   ]
  },
  {
   "cell_type": "code",
   "execution_count": 160,
   "metadata": {},
   "outputs": [],
   "source": [
    "X_test = normalize(epochs_test.get_data())\n",
    "y_test = epochs_test.events[:, 2] - 1\n",
    "test_dataset = data.TensorDataset(torch.tensor(X_test).unsqueeze(1), torch.tensor(y_test))\n",
    "test_loader = data.DataLoader(test_dataset, batch_size=128, shuffle=True)"
   ]
  },
  {
   "cell_type": "code",
   "execution_count": 161,
   "metadata": {},
   "outputs": [
    {
     "data": {
      "text/plain": [
       "[<matplotlib.lines.Line2D at 0x7f2254c110d0>]"
      ]
     },
     "execution_count": 161,
     "metadata": {},
     "output_type": "execute_result"
    },
    {
     "name": "stdout",
     "output_type": "stream",
     "text": [
      "<Figure size 432x288 with 1 Axes>\n"
     ]
    }
   ],
   "source": [
    "plt.plot(train_losses)"
   ]
  },
  {
   "cell_type": "code",
   "execution_count": 162,
   "metadata": {},
   "outputs": [],
   "source": [
    "def accuracy_score(model, test_loader):\n",
    "  correct = 0\n",
    "  total = 0\n",
    "  model.eval()\n",
    "  softmax = nn.Softmax()\n",
    "  with torch.no_grad():\n",
    "    for pair in test_loader:\n",
    "      x, y = pair[0], pair[1]\n",
    "      x = x.cuda().float().contiguous()\n",
    "      y = y.cuda().long().contiguous()\n",
    "      out = model(x)\n",
    "      _, predicted = torch.max(softmax(out.data), 1)\n",
    "      total += y.size(0)\n",
    "      correct += (predicted == y).sum().item()\n",
    "\n",
    "  print(f'Accuracy of the network on the {len(test_loader.dataset)} test images: {round(100 * correct / total)}%')"
   ]
  },
  {
   "cell_type": "code",
   "execution_count": 163,
   "metadata": {},
   "outputs": [
    {
     "name": "stderr",
     "output_type": "stream",
     "text": [
      "/opt/conda/lib/python3.7/site-packages/ipykernel_launcher.py:12: UserWarning: Implicit dimension choice for softmax has been deprecated. Change the call to include dim=X as an argument.\n",
      "  if sys.path[0] == '':\n"
     ]
    },
    {
     "name": "stdout",
     "output_type": "stream",
     "text": [
      "Accuracy of the network on the 27295 test images: 84%\n"
     ]
    }
   ],
   "source": [
    "accuracy_score(model, test_loader)"
   ]
  },
  {
   "cell_type": "markdown",
   "metadata": {},
   "source": [
    "## Contrastive Predictive Coding"
   ]
  },
  {
   "cell_type": "markdown",
   "metadata": {},
   "source": [
    "Pseudocode:\n",
    "- Get waveform for each recording\n",
    "- Load n=10 waveforms into minibatch\n",
    "- For each waveform, select 3 min patch\n",
    "- encode first\n",
    "- predict 8, each with 8 negatives"
   ]
  },
  {
   "cell_type": "code",
   "execution_count": 7,
   "metadata": {},
   "outputs": [],
   "source": [
    "def load_ssl_data(subjects, recordings):\n",
    "    files = fetch_data(subjects=subjects, recording=recordings)\n",
    "    data = []\n",
    "    for x in files:\n",
    "        print(\"Loading\", x[0])\n",
    "        # load the data\n",
    "        edf_file = x[0]\n",
    "        annot_file = x[1]\n",
    "        raw = mne.io.read_raw_edf(edf_file, verbose='ERROR')\n",
    "        annot_train = mne.read_annotations(annot_file)\n",
    "\n",
    "        raw.set_annotations(annot_train, emit_warning=False)\n",
    "        raw.set_channel_types(MAPPING)\n",
    "        \n",
    "        # filter\n",
    "        raw.load_data()\n",
    "        raw.filter(None, 30., fir_design='firwin') # low pass filter\n",
    "        raw.pick_types(eeg=True, verbose='ERROR') # only keep EEG channels\n",
    "\n",
    "        data.append(raw.get_data())\n",
    "    return data\n",
    "# [1,2,3,4,5,,6,7,7,8]"
   ]
  },
  {
   "cell_type": "code",
   "execution_count": 8,
   "metadata": {},
   "outputs": [
    {
     "name": "stdout",
     "output_type": "stream",
     "text": [
      "Loading /home/raphael_hotter/datasets/SC4001E0-PSG.edf\n",
      "Loading /home/raphael_hotter/datasets/SC4011E0-PSG.edf\n",
      "Loading /home/raphael_hotter/datasets/SC4021E0-PSG.edf\n",
      "Loading /home/raphael_hotter/datasets/SC4031E0-PSG.edf\n",
      "Loading /home/raphael_hotter/datasets/SC4041E0-PSG.edf\n",
      "Loading /home/raphael_hotter/datasets/SC4051E0-PSG.edf\n",
      "Loading /home/raphael_hotter/datasets/SC4061E0-PSG.edf\n",
      "Loading /home/raphael_hotter/datasets/SC4071E0-PSG.edf\n",
      "Loading /home/raphael_hotter/datasets/SC4081E0-PSG.edf\n",
      "Loading /home/raphael_hotter/datasets/SC4091E0-PSG.edf\n",
      "Loading /home/raphael_hotter/datasets/SC4101E0-PSG.edf\n",
      "Loading /home/raphael_hotter/datasets/SC4111E0-PSG.edf\n",
      "Loading /home/raphael_hotter/datasets/SC4121E0-PSG.edf\n",
      "Loading /home/raphael_hotter/datasets/SC4131E0-PSG.edf\n",
      "Loading /home/raphael_hotter/datasets/SC4141E0-PSG.edf\n",
      "Loading /home/raphael_hotter/datasets/SC4151E0-PSG.edf\n",
      "Loading /home/raphael_hotter/datasets/SC4161E0-PSG.edf\n",
      "Loading /home/raphael_hotter/datasets/SC4171E0-PSG.edf\n",
      "Loading /home/raphael_hotter/datasets/SC4181E0-PSG.edf\n",
      "Loading /home/raphael_hotter/datasets/SC4191E0-PSG.edf\n",
      "Loading /home/raphael_hotter/datasets/SC4201E0-PSG.edf\n",
      "Loading /home/raphael_hotter/datasets/SC4211E0-PSG.edf\n",
      "Loading /home/raphael_hotter/datasets/SC4221E0-PSG.edf\n",
      "Loading /home/raphael_hotter/datasets/SC4231E0-PSG.edf\n",
      "Loading /home/raphael_hotter/datasets/SC4241E0-PSG.edf\n",
      "Loading /home/raphael_hotter/datasets/SC4251E0-PSG.edf\n",
      "Loading /home/raphael_hotter/datasets/SC4261F0-PSG.edf\n",
      "Loading /home/raphael_hotter/datasets/SC4271F0-PSG.edf\n",
      "Loading /home/raphael_hotter/datasets/SC4281G0-PSG.edf\n",
      "Loading /home/raphael_hotter/datasets/SC4291G0-PSG.edf\n"
     ]
    }
   ],
   "source": [
    "train_data = load_ssl_data(train_subjects, recordings)\n",
    "test_data = load_ssl_data(test_subjects, recordings)"
   ]
  },
  {
   "cell_type": "code",
   "execution_count": 9,
   "metadata": {},
   "outputs": [
    {
     "name": "stdout",
     "output_type": "stream",
     "text": [
      "Loading /home/raphael_hotter/datasets/SC4201E0-PSG.edf\n",
      "Loading /home/raphael_hotter/datasets/SC4211E0-PSG.edf\n",
      "Loading /home/raphael_hotter/datasets/SC4221E0-PSG.edf\n",
      "Loading /home/raphael_hotter/datasets/SC4231E0-PSG.edf\n",
      "Loading /home/raphael_hotter/datasets/SC4241E0-PSG.edf\n",
      "Loading /home/raphael_hotter/datasets/SC4251E0-PSG.edf\n",
      "Loading /home/raphael_hotter/datasets/SC4261F0-PSG.edf\n",
      "Loading /home/raphael_hotter/datasets/SC4271F0-PSG.edf\n",
      "Loading /home/raphael_hotter/datasets/SC4281G0-PSG.edf\n",
      "Loading /home/raphael_hotter/datasets/SC4291G0-PSG.edf\n"
     ]
    }
   ],
   "source": [
    "test_data = load_ssl_data(test_subjects, recordings)"
   ]
  },
  {
   "cell_type": "code",
   "execution_count": 104,
   "metadata": {},
   "outputs": [],
   "source": [
    "import IPython\n",
    "e = IPython.embed"
   ]
  },
  {
   "cell_type": "code",
   "execution_count": 10,
   "metadata": {},
   "outputs": [],
   "source": [
    "def normalize_one(x):\n",
    "  x_normalized = (x - x.mean(1).reshape(x.shape[0],1))/(x.std(1).reshape(x.shape[0],1))\n",
    "  return x_normalized"
   ]
  },
  {
   "cell_type": "code",
   "execution_count": 79,
   "metadata": {},
   "outputs": [],
   "source": [
    "predict_delay = 60 # 1 min\n",
    "overlap = 0.5\n",
    "n_context_windows = 8\n",
    "window_length = 30 # s\n",
    "n_predict_windows = 4\n",
    "n_negatives = 4\n",
    "S_FREQ = 100 # samples/sec\n",
    "\n",
    "import random\n",
    "\n",
    "def sample_negative(recording, start_sample, n_samples, n_negatives, window_length=3000):\n",
    "    n_available_positions = recording.shape[1] - n_samples - 2*window_length\n",
    "    random_indices = np.random.choice(n_available_positions, n_negatives)\n",
    "    negative_samples = []\n",
    "    for i in random_indices:\n",
    "      if i < start_sample - window_length:\n",
    "        negative_samples.append(recording[:, i:i+window_length])\n",
    "      else:\n",
    "        idx = i + window_length + n_samples\n",
    "        negative_samples.append(recording[:, idx:idx+window_length])\n",
    "    return negative_samples\n",
    "\n",
    "  # [0,1,2,3,4,5,6,6,7,,8,89,9]\n",
    "\n",
    "def get_minibatch(train_data, bs, n_negatives, n_context_windows, n_predict_windows, overlap, predict_delay):\n",
    "  \"\"\"\n",
    "  Return list has [{\n",
    "    context windows: [[],[],...],\n",
    "    prediction windows: [[],[],...]\n",
    "    negative windows: [[],[],...]\n",
    "  }]\n",
    "  [1,2,3,4,5,5,6,....,8,]\n",
    "  \"\"\"\n",
    "  # sample bs subjects with replacement\n",
    "  context_time = (1 + (n_context_windows-1)*overlap)*window_length\n",
    "  predict_time = (1 + (n_predict_windows-1)*overlap)*window_length\n",
    "  \n",
    "  sample_length = S_FREQ*(context_time + predict_delay + predict_time)\n",
    "  \n",
    "  subjects = random.choices(train_data, k=bs)\n",
    "  minibatch = []\n",
    "  for s in subjects:\n",
    "    s_length = s.shape[1]\n",
    "    start_position = np.random.randint(0, s_length-sample_length)\n",
    "    context_window_start_times = np.arange(start_position,\n",
    "                                           start_position + context_time*S_FREQ - overlap*S_FREQ*window_length,\n",
    "                                           overlap*S_FREQ*window_length)\n",
    "    predict_window_start_times = np.arange(start_position + S_FREQ*context_time + S_FREQ*predict_delay,\n",
    "                                           start_position + S_FREQ*context_time + S_FREQ*predict_delay + S_FREQ*predict_time - overlap*S_FREQ*window_length,\n",
    "                                           overlap*S_FREQ*window_length)\n",
    "    context_windows = [s[:,int(c_time):int(c_time)+S_FREQ*window_length] for c_time in context_window_start_times]\n",
    "    predict_windows = [s[:,int(p_time):int(p_time)+S_FREQ*window_length] for p_time in predict_window_start_times]\n",
    "    negative_windows = [sample_negative(s, int(start_position), int(sample_length), int(n_negatives)) for i in range(len(predict_windows))]\n",
    "\n",
    "    minibatch.append({\n",
    "      \"context_windows\": [normalize_one(c) for c in context_windows],\n",
    "      \"predict_windows\": [normalize_one(c) for c in predict_windows],\n",
    "      \"negative_windows\": [normalize_one(c) for vec in negative_windows for c in vec]\n",
    "    })\n",
    "  \n",
    "  return minibatch\n",
    "  \n",
    "m = get_minibatch(train_data, 100, n_negatives, n_context_windows, n_predict_windows, overlap, predict_delay)\n"
   ]
  },
  {
   "cell_type": "code",
   "execution_count": 80,
   "metadata": {},
   "outputs": [
    {
     "data": {
      "text/plain": [
       "[<matplotlib.lines.Line2D at 0x7f2255251610>]"
      ]
     },
     "execution_count": 80,
     "metadata": {},
     "output_type": "execute_result"
    },
    {
     "data": {
      "image/png": "[encoded data removed]",
      "text/plain": [
       "<Figure size 432x288 with 1 Axes>"
      ]
     },
     "metadata": {
      "needs_background": "light"
     },
     "output_type": "display_data"
    }
   ],
   "source": [
    "plt.plot(m[0][\"negative_windows\"][0][0])"
   ]
  },
  {
   "cell_type": "code",
   "execution_count": 93,
   "metadata": {},
   "outputs": [],
   "source": [
    "batch_size = 128\n",
    "\n",
    "def train_one_ssl(model, train_data, optimizer, epoch):\n",
    "  model.train()\n",
    "  \n",
    "  train_losses = []\n",
    "  for i in range(10):\n",
    "    minibatch = get_minibatch(train_data, batch_size, n_negatives, n_context_windows, n_predict_windows, overlap, predict_delay)\n",
    "    loss = model.forward(minibatch)\n",
    "    optimizer.zero_grad()\n",
    "    loss.backward()\n",
    "    optimizer.step()\n",
    "    train_losses.append(loss.item())\n",
    "  return train_losses\n",
    "\n",
    "def eval_loss_ssl(model, test_data):\n",
    "  model.eval()\n",
    "  total_loss = 0\n",
    "  with torch.no_grad():\n",
    "    for i in range(2):\n",
    "      minibatch = get_minibatch(test_data, batch_size, n_negatives, n_context_windows, n_predict_windows, overlap, predict_delay)\n",
    "      loss = model.forward(minibatch)\n",
    "      total_loss += loss * batch_size\n",
    "    avg_loss = total_loss / (2*batch_size)\n",
    "\n",
    "  return avg_loss.item()\n",
    "\n",
    "def train_epochs_ssl(model, train_data, test_data, train_args):\n",
    "  epochs, lr = train_args['epochs'], train_args['lr']\n",
    "  optimizer = optim.Adam(model.parameters(), lr=lr)\n",
    "\n",
    "  train_losses = []\n",
    "  test_losses = [eval_loss_ssl(model, test_data)]\n",
    "  for epoch in range(epochs):\n",
    "    model.train()\n",
    "    train_losses.extend(train_one_ssl(model, train_data, optimizer, epoch))\n",
    "    test_loss = eval_loss_ssl(model, test_data)\n",
    "    test_losses.append(test_loss)\n",
    "    print(f'Epoch {epoch}, Test loss {test_loss:.4f}')\n",
    "  return train_losses, test_losses"
   ]
  },
  {
   "cell_type": "code",
   "execution_count": 94,
   "metadata": {},
   "outputs": [],
   "source": [
    "class CPC_EEG(nn.Module):\n",
    "  def __init__(self, C, T, n_context, n_predict, n_negatives, embedding_dim=100, k=50, m=13, dropout_prob=0.5, n_spatial_filters=8):\n",
    "    super().__init__()\n",
    "    self.n_context = n_context\n",
    "    self.n_predict = n_predict\n",
    "    self.n_negatives = n_negatives\n",
    "    self.C = C\n",
    "    self.T = T\n",
    "    self.feature_extractor = EEG_FeatureExtractor(C, T, k, m, dropout_prob, embedding_dim, n_spatial_filters)\n",
    "    self.cross_entropy = nn.CrossEntropyLoss()\n",
    "\n",
    "  def forward(self, minibatch):\n",
    "    \"\"\"\n",
    "    for each sample:\n",
    "      encode context windows, prediction windows, negative windows\n",
    "      aggregate context windows\n",
    "      compute distances between (1) aggregated context windows and prediction windows encoding\n",
    "                                (2) aggregated context windows and negative windows encoding\n",
    "      do softmax with distances\n",
    "      1 prediction distance and n_neg negative distance\n",
    "      [prediction, neg1 distance, neg2 distance, , , ]\n",
    "      \n",
    "    \"\"\"\n",
    "    total_loss = 0\n",
    "    for recording_dict in minibatch:\n",
    "      recording_tensor = self.dict_to_tensor(recording_dict)\n",
    "      embeddings = self.feature_extractor(recording_tensor)\n",
    "      aggregated_context = self.aggregate_context_embeddings(embeddings[:self.n_context])\n",
    "      distances = self.compute_distances(aggregated_context, embeddings[self.n_context:])\n",
    "      loss = self.cross_entropy(distances, torch.zeros(len(distances)).cuda().long())\n",
    "      total_loss += loss\n",
    "    return total_loss/len(minibatch)\n",
    "  \n",
    "  def compute_distances(self, aggregated_context, comparison_embeddings):\n",
    "    \"\"\"\n",
    "    Returns (n_predict, n_negatives+1) matrix\n",
    "    \"\"\"\n",
    "    distances_vect = torch.matmul(comparison_embeddings, aggregated_context)\n",
    "    distances = torch.cat((distances_vect[:self.n_predict].unsqueeze(dim=1),\n",
    "                 distances_vect[self.n_predict:].reshape(self.n_predict, self.n_negatives)), dim=1)\n",
    "    return distances\n",
    "  \n",
    "  def aggregate_context_embeddings(self, context_embeddings):\n",
    "    return context_embeddings.mean(dim=0)\n",
    "  \n",
    "  def dict_to_tensor(self, minibatch_dict):\n",
    "    tensor = np.zeros((self.n_context + self.n_predict + self.n_predict*self.n_negatives, 1, self.C, self.T))\n",
    "    tensor[0:self.n_context] = np.array(minibatch_dict[\"context_windows\"]).reshape(-1,1,self.C,self.T)\n",
    "    tensor[self.n_context:self.n_context+self.n_predict] = np.array(minibatch_dict[\"predict_windows\"]).reshape(-1,1,self.C,self.T)\n",
    "    tensor[self.n_context+self.n_predict:] = np.array(minibatch_dict[\"negative_windows\"]).reshape(-1,1,self.C,self.T)\n",
    "    \n",
    "    return torch.from_numpy(tensor).cuda().contiguous().float()"
   ]
  },
  {
   "cell_type": "code",
   "execution_count": 96,
   "metadata": {},
   "outputs": [
    {
     "name": "stdout",
     "output_type": "stream",
     "text": [
      "Epoch 0, Test loss 1.5539\n",
      "Epoch 1, Test loss 1.4211\n",
      "Epoch 2, Test loss 1.3722\n",
      "Epoch 3, Test loss 1.3485\n",
      "Epoch 4, Test loss 1.3103\n",
      "Epoch 5, Test loss 1.3221\n",
      "Epoch 6, Test loss 1.2983\n",
      "Epoch 7, Test loss 1.2970\n",
      "Epoch 8, Test loss 1.2950\n",
      "Epoch 9, Test loss 1.2982\n",
      "Epoch 10, Test loss 1.2422\n",
      "Epoch 11, Test loss 1.2890\n",
      "Epoch 12, Test loss 1.3016\n",
      "Epoch 13, Test loss 1.3134\n",
      "Epoch 14, Test loss 1.2675\n",
      "Epoch 15, Test loss 1.2549\n",
      "Epoch 16, Test loss 1.2335\n",
      "Epoch 17, Test loss 1.2287\n",
      "Epoch 18, Test loss 1.1724\n",
      "Epoch 19, Test loss 1.1721\n",
      "Epoch 20, Test loss 1.1556\n",
      "Epoch 21, Test loss 1.1916\n",
      "Epoch 22, Test loss 1.1919\n",
      "Epoch 23, Test loss 1.1951\n",
      "Epoch 24, Test loss 1.1520\n",
      "Epoch 25, Test loss 1.1387\n",
      "Epoch 26, Test loss 1.1862\n",
      "Epoch 27, Test loss 1.1331\n",
      "Epoch 28, Test loss 1.1720\n",
      "Epoch 29, Test loss 1.1684\n",
      "Epoch 30, Test loss 1.0506\n",
      "Epoch 31, Test loss 1.1432\n",
      "Epoch 32, Test loss 1.0980\n",
      "Epoch 33, Test loss 1.1747\n",
      "Epoch 34, Test loss 1.0845\n",
      "Epoch 35, Test loss 1.0600\n",
      "Epoch 36, Test loss 1.0834\n",
      "Epoch 37, Test loss 1.0596\n",
      "Epoch 38, Test loss 1.0407\n",
      "Epoch 39, Test loss 1.0871\n",
      "Epoch 40, Test loss 1.0693\n",
      "Epoch 41, Test loss 1.0852\n",
      "Epoch 42, Test loss 1.1049\n",
      "Epoch 43, Test loss 1.0846\n",
      "Epoch 44, Test loss 1.0528\n",
      "Epoch 45, Test loss 1.0031\n",
      "Epoch 46, Test loss 1.0510\n",
      "Epoch 47, Test loss 1.0921\n",
      "Epoch 48, Test loss 1.0929\n",
      "Epoch 49, Test loss 1.0711\n",
      "Epoch 50, Test loss 1.0489\n",
      "Epoch 51, Test loss 1.0736\n",
      "Epoch 52, Test loss 1.0807\n",
      "Epoch 53, Test loss 1.0467\n",
      "Epoch 54, Test loss 1.0590\n",
      "Epoch 55, Test loss 1.0708\n",
      "Epoch 56, Test loss 0.9786\n",
      "Epoch 57, Test loss 1.0787\n",
      "Epoch 58, Test loss 1.0287\n",
      "Epoch 59, Test loss 1.0653\n",
      "Epoch 60, Test loss 1.0985\n",
      "Epoch 61, Test loss 1.0392\n",
      "Epoch 62, Test loss 1.0225\n",
      "Epoch 63, Test loss 1.0713\n",
      "Epoch 64, Test loss 1.0081\n",
      "Epoch 65, Test loss 1.0337\n",
      "Epoch 66, Test loss 1.0102\n",
      "Epoch 67, Test loss 1.0586\n",
      "Epoch 68, Test loss 1.0072\n",
      "Epoch 69, Test loss 1.0704\n",
      "Epoch 70, Test loss 0.9993\n",
      "Epoch 71, Test loss 1.0603\n",
      "Epoch 72, Test loss 1.0458\n",
      "Epoch 73, Test loss 1.0923\n",
      "Epoch 74, Test loss 1.0904\n",
      "Epoch 75, Test loss 0.9979\n",
      "Epoch 76, Test loss 1.0768\n",
      "Epoch 77, Test loss 1.0871\n",
      "Epoch 78, Test loss 0.9980\n",
      "Epoch 79, Test loss 1.0152\n",
      "Epoch 80, Test loss 1.0910\n",
      "Epoch 81, Test loss 0.9931\n",
      "Epoch 82, Test loss 1.0832\n",
      "Epoch 83, Test loss 1.0514\n",
      "Epoch 84, Test loss 1.0381\n",
      "Epoch 85, Test loss 1.0618\n",
      "Epoch 86, Test loss 1.0497\n",
      "Epoch 87, Test loss 1.0495\n",
      "Epoch 88, Test loss 1.0188\n",
      "Epoch 89, Test loss 1.0356\n",
      "Epoch 90, Test loss 1.0577\n",
      "Epoch 91, Test loss 1.0119\n",
      "Epoch 92, Test loss 1.0098\n",
      "Epoch 93, Test loss 0.9708\n",
      "Epoch 94, Test loss 0.9603\n",
      "Epoch 95, Test loss 0.9951\n",
      "Epoch 96, Test loss 0.9870\n",
      "Epoch 97, Test loss 0.9660\n",
      "Epoch 98, Test loss 1.0690\n",
      "Epoch 99, Test loss 1.0118\n"
     ]
    }
   ],
   "source": [
    "# def train_ssl(train_data, test_data, model):\n",
    "C = 2 # num channels\n",
    "T = 3000 # window length\n",
    "model = CPC_EEG(C, T, n_context_windows, n_predict_windows, n_negatives).cuda()\n",
    "\n",
    "train_losses, test_losses = train_epochs_ssl(model, train_data, test_data,\n",
    "                                       dict(epochs=100, lr=1e-3))\n",
    "\n",
    "#   return train_losses, test_losses, model"
   ]
  },
  {
   "cell_type": "code",
   "execution_count": 97,
   "metadata": {},
   "outputs": [
    {
     "name": "stdout",
     "output_type": "stream",
     "text": [
      "Epoch 0, Test loss 1.0451\n",
      "Epoch 1, Test loss 1.0218\n",
      "Epoch 2, Test loss 1.0043\n",
      "Epoch 3, Test loss 1.0532\n",
      "Epoch 4, Test loss 1.0250\n",
      "Epoch 5, Test loss 1.1007\n",
      "Epoch 6, Test loss 0.9988\n",
      "Epoch 7, Test loss 0.9895\n",
      "Epoch 8, Test loss 1.0892\n",
      "Epoch 9, Test loss 0.9869\n",
      "Epoch 10, Test loss 0.9443\n",
      "Epoch 11, Test loss 1.0045\n",
      "Epoch 12, Test loss 0.9861\n",
      "Epoch 13, Test loss 0.9753\n",
      "Epoch 14, Test loss 1.0174\n",
      "Epoch 15, Test loss 1.0403\n",
      "Epoch 16, Test loss 0.9909\n",
      "Epoch 17, Test loss 0.9772\n",
      "Epoch 18, Test loss 1.0530\n",
      "Epoch 19, Test loss 0.9656\n",
      "Epoch 20, Test loss 1.0752\n",
      "Epoch 21, Test loss 1.0088\n",
      "Epoch 22, Test loss 0.9998\n",
      "Epoch 23, Test loss 0.9563\n",
      "Epoch 24, Test loss 0.9721\n",
      "Epoch 25, Test loss 1.0728\n",
      "Epoch 26, Test loss 0.9239\n",
      "Epoch 27, Test loss 0.9730\n",
      "Epoch 28, Test loss 0.9583\n",
      "Epoch 29, Test loss 1.0023\n",
      "Epoch 30, Test loss 1.0941\n",
      "Epoch 31, Test loss 0.9359\n",
      "Epoch 32, Test loss 0.9431\n",
      "Epoch 33, Test loss 0.9439\n",
      "Epoch 34, Test loss 0.9736\n",
      "Epoch 35, Test loss 1.0053\n",
      "Epoch 36, Test loss 0.9645\n",
      "Epoch 37, Test loss 0.9400\n",
      "Epoch 38, Test loss 0.9236\n",
      "Epoch 39, Test loss 0.9892\n",
      "Epoch 40, Test loss 0.9704\n",
      "Epoch 41, Test loss 1.0455\n",
      "Epoch 42, Test loss 0.9972\n",
      "Epoch 43, Test loss 0.9820\n",
      "Epoch 44, Test loss 0.9981\n",
      "Epoch 45, Test loss 0.9152\n",
      "Epoch 46, Test loss 1.1461\n",
      "Epoch 47, Test loss 0.9918\n",
      "Epoch 48, Test loss 0.9797\n",
      "Epoch 49, Test loss 0.9357\n",
      "Epoch 50, Test loss 0.9727\n",
      "Epoch 51, Test loss 0.9493\n",
      "Epoch 52, Test loss 1.0309\n",
      "Epoch 53, Test loss 1.1034\n",
      "Epoch 54, Test loss 0.9500\n",
      "Epoch 55, Test loss 0.9763\n",
      "Epoch 56, Test loss 1.0007\n",
      "Epoch 57, Test loss 0.9893\n",
      "Epoch 58, Test loss 1.0077\n",
      "Epoch 59, Test loss 0.9322\n",
      "Epoch 60, Test loss 0.9645\n",
      "Epoch 61, Test loss 0.9146\n",
      "Epoch 62, Test loss 0.8738\n",
      "Epoch 63, Test loss 0.9935\n",
      "Epoch 64, Test loss 0.8479\n",
      "Epoch 65, Test loss 1.0380\n",
      "Epoch 66, Test loss 0.8966\n",
      "Epoch 67, Test loss 1.0121\n",
      "Epoch 68, Test loss 0.9397\n",
      "Epoch 69, Test loss 0.9262\n",
      "Epoch 70, Test loss 1.0352\n",
      "Epoch 71, Test loss 0.9392\n",
      "Epoch 72, Test loss 1.0277\n",
      "Epoch 73, Test loss 1.0511\n",
      "Epoch 74, Test loss 1.0266\n",
      "Epoch 75, Test loss 1.0428\n",
      "Epoch 76, Test loss 0.9375\n",
      "Epoch 77, Test loss 0.9311\n",
      "Epoch 78, Test loss 0.9652\n",
      "Epoch 79, Test loss 0.8871\n",
      "Epoch 80, Test loss 0.9451\n",
      "Epoch 81, Test loss 0.9008\n",
      "Epoch 82, Test loss 1.0071\n",
      "Epoch 83, Test loss 0.8625\n",
      "Epoch 84, Test loss 0.9891\n",
      "Epoch 85, Test loss 0.9702\n",
      "Epoch 86, Test loss 0.9569\n",
      "Epoch 87, Test loss 0.9349\n",
      "Epoch 88, Test loss 0.9309\n",
      "Epoch 89, Test loss 0.9297\n",
      "Epoch 90, Test loss 1.0319\n",
      "Epoch 91, Test loss 0.9101\n",
      "Epoch 92, Test loss 0.9514\n",
      "Epoch 93, Test loss 0.9091\n",
      "Epoch 94, Test loss 0.9020\n",
      "Epoch 95, Test loss 0.8906\n",
      "Epoch 96, Test loss 0.9108\n",
      "Epoch 97, Test loss 1.0537\n",
      "Epoch 98, Test loss 0.9340\n",
      "Epoch 99, Test loss 0.9364\n"
     ]
    }
   ],
   "source": [
    "train_losses2, test_losses2 = train_epochs_ssl(model, train_data, test_data,\n",
    "                                       dict(epochs=100, lr=1e-3))"
   ]
  },
  {
   "cell_type": "code",
   "execution_count": 100,
   "metadata": {},
   "outputs": [
    {
     "name": "stdout",
     "output_type": "stream",
     "text": [
      "Epoch 0, Test loss 1.0111\n",
      "Epoch 1, Test loss 0.9454\n",
      "Epoch 2, Test loss 1.0188\n",
      "Epoch 3, Test loss 0.9645\n",
      "Epoch 4, Test loss 0.9688\n",
      "Epoch 5, Test loss 0.9021\n",
      "Epoch 6, Test loss 0.9973\n",
      "Epoch 7, Test loss 0.9498\n",
      "Epoch 8, Test loss 1.0069\n",
      "Epoch 9, Test loss 0.8815\n",
      "Epoch 10, Test loss 0.9796\n",
      "Epoch 11, Test loss 0.8434\n",
      "Epoch 12, Test loss 0.9611\n",
      "Epoch 13, Test loss 0.9654\n",
      "Epoch 14, Test loss 0.8828\n",
      "Epoch 15, Test loss 1.0686\n",
      "Epoch 16, Test loss 0.9316\n",
      "Epoch 17, Test loss 0.9465\n",
      "Epoch 18, Test loss 0.9328\n",
      "Epoch 19, Test loss 0.8993\n",
      "Epoch 20, Test loss 0.9321\n",
      "Epoch 21, Test loss 0.8672\n",
      "Epoch 22, Test loss 0.9673\n",
      "Epoch 23, Test loss 0.9512\n",
      "Epoch 24, Test loss 0.8831\n",
      "Epoch 25, Test loss 0.9372\n",
      "Epoch 26, Test loss 0.9848\n",
      "Epoch 27, Test loss 1.0084\n",
      "Epoch 28, Test loss 0.9549\n",
      "Epoch 29, Test loss 0.9353\n",
      "Epoch 30, Test loss 0.9940\n",
      "Epoch 31, Test loss 0.9281\n",
      "Epoch 32, Test loss 0.9260\n",
      "Epoch 33, Test loss 0.9575\n",
      "Epoch 34, Test loss 0.8774\n",
      "Epoch 35, Test loss 0.8777\n",
      "Epoch 36, Test loss 0.9016\n",
      "Epoch 37, Test loss 1.0205\n",
      "Epoch 38, Test loss 0.9539\n",
      "Epoch 39, Test loss 0.9221\n",
      "Epoch 40, Test loss 0.8845\n",
      "Epoch 41, Test loss 0.9102\n",
      "Epoch 42, Test loss 0.8449\n",
      "Epoch 43, Test loss 1.0369\n",
      "Epoch 44, Test loss 0.9390\n",
      "Epoch 45, Test loss 0.9308\n",
      "Epoch 46, Test loss 1.0436\n",
      "Epoch 47, Test loss 1.0402\n",
      "Epoch 48, Test loss 0.9774\n",
      "Epoch 49, Test loss 0.9332\n",
      "Epoch 50, Test loss 1.0007\n",
      "Epoch 51, Test loss 0.9267\n",
      "Epoch 52, Test loss 1.0169\n",
      "Epoch 53, Test loss 0.9479\n",
      "Epoch 54, Test loss 0.9064\n",
      "Epoch 55, Test loss 0.9165\n",
      "Epoch 56, Test loss 0.9090\n",
      "Epoch 57, Test loss 0.9651\n",
      "Epoch 58, Test loss 0.9491\n",
      "Epoch 59, Test loss 0.9266\n",
      "Epoch 60, Test loss 1.0242\n",
      "Epoch 61, Test loss 0.9023\n",
      "Epoch 62, Test loss 0.9786\n",
      "Epoch 63, Test loss 0.8814\n",
      "Epoch 64, Test loss 0.9464\n",
      "Epoch 65, Test loss 0.8948\n",
      "Epoch 66, Test loss 1.0071\n",
      "Epoch 67, Test loss 0.8555\n",
      "Epoch 68, Test loss 0.8622\n",
      "Epoch 69, Test loss 0.9570\n",
      "Epoch 70, Test loss 0.9677\n",
      "Epoch 71, Test loss 0.8966\n",
      "Epoch 72, Test loss 0.9923\n",
      "Epoch 73, Test loss 0.9127\n",
      "Epoch 74, Test loss 1.0027\n",
      "Epoch 75, Test loss 0.9926\n",
      "Epoch 76, Test loss 0.9041\n",
      "Epoch 77, Test loss 0.9511\n",
      "Epoch 78, Test loss 1.0365\n",
      "Epoch 79, Test loss 0.9629\n",
      "Epoch 80, Test loss 0.9494\n",
      "Epoch 81, Test loss 0.8350\n",
      "Epoch 82, Test loss 1.0221\n",
      "Epoch 83, Test loss 0.8850\n",
      "Epoch 84, Test loss 0.9886\n",
      "Epoch 85, Test loss 1.0088\n",
      "Epoch 86, Test loss 0.9288\n",
      "Epoch 87, Test loss 1.0344\n",
      "Epoch 88, Test loss 0.9425\n",
      "Epoch 89, Test loss 0.9159\n",
      "Epoch 90, Test loss 0.9766\n",
      "Epoch 91, Test loss 0.9859\n",
      "Epoch 92, Test loss 0.8793\n",
      "Epoch 93, Test loss 0.9613\n",
      "Epoch 94, Test loss 0.8807\n",
      "Epoch 95, Test loss 0.8977\n",
      "Epoch 96, Test loss 0.9761\n",
      "Epoch 97, Test loss 0.9557\n",
      "Epoch 98, Test loss 0.9263\n",
      "Epoch 99, Test loss 0.9283\n"
     ]
    }
   ],
   "source": [
    "train_losses3, test_losses3 = train_epochs_ssl(model, train_data, test_data,\n",
    "                                       dict(epochs=100, lr=1e-3))"
   ]
  },
  {
   "cell_type": "code",
   "execution_count": 101,
   "metadata": {},
   "outputs": [
    {
     "name": "stdout",
     "output_type": "stream",
     "text": [
      "Epoch 0, Test loss 0.9229\n",
      "Epoch 1, Test loss 0.8735\n",
      "Epoch 2, Test loss 1.0025\n",
      "Epoch 3, Test loss 0.8785\n",
      "Epoch 4, Test loss 1.0112\n",
      "Epoch 5, Test loss 0.8711\n",
      "Epoch 6, Test loss 0.9217\n",
      "Epoch 7, Test loss 0.8711\n",
      "Epoch 8, Test loss 0.9799\n",
      "Epoch 9, Test loss 0.8482\n",
      "Epoch 10, Test loss 0.8959\n",
      "Epoch 11, Test loss 0.9526\n",
      "Epoch 12, Test loss 0.9962\n",
      "Epoch 13, Test loss 0.9109\n",
      "Epoch 14, Test loss 0.9240\n",
      "Epoch 15, Test loss 0.9302\n",
      "Epoch 16, Test loss 0.9124\n",
      "Epoch 17, Test loss 0.9606\n",
      "Epoch 18, Test loss 1.0549\n",
      "Epoch 19, Test loss 0.8558\n",
      "Epoch 20, Test loss 0.9101\n",
      "Epoch 21, Test loss 0.9254\n",
      "Epoch 22, Test loss 0.9073\n",
      "Epoch 23, Test loss 0.8735\n",
      "Epoch 24, Test loss 0.9180\n",
      "Epoch 25, Test loss 0.8990\n",
      "Epoch 26, Test loss 0.9236\n",
      "Epoch 27, Test loss 0.9412\n",
      "Epoch 28, Test loss 0.9270\n",
      "Epoch 29, Test loss 0.9190\n",
      "Epoch 30, Test loss 0.8865\n",
      "Epoch 31, Test loss 0.9242\n",
      "Epoch 32, Test loss 0.8395\n",
      "Epoch 33, Test loss 0.8733\n",
      "Epoch 34, Test loss 0.9152\n",
      "Epoch 35, Test loss 1.0448\n",
      "Epoch 36, Test loss 0.9222\n",
      "Epoch 37, Test loss 1.0280\n",
      "Epoch 38, Test loss 0.8331\n",
      "Epoch 39, Test loss 0.9123\n",
      "Epoch 40, Test loss 0.9669\n",
      "Epoch 41, Test loss 0.9652\n",
      "Epoch 42, Test loss 0.8560\n",
      "Epoch 43, Test loss 0.9401\n",
      "Epoch 44, Test loss 0.9518\n",
      "Epoch 45, Test loss 0.9063\n",
      "Epoch 46, Test loss 0.8833\n",
      "Epoch 47, Test loss 0.9565\n",
      "Epoch 48, Test loss 1.0279\n",
      "Epoch 49, Test loss 0.8451\n",
      "Epoch 50, Test loss 0.8528\n",
      "Epoch 51, Test loss 0.8816\n",
      "Epoch 52, Test loss 0.8846\n",
      "Epoch 53, Test loss 1.0669\n",
      "Epoch 54, Test loss 0.9490\n",
      "Epoch 55, Test loss 1.0072\n",
      "Epoch 56, Test loss 0.9625\n",
      "Epoch 57, Test loss 0.9984\n",
      "Epoch 58, Test loss 1.0252\n",
      "Epoch 59, Test loss 0.9202\n",
      "Epoch 60, Test loss 0.8306\n",
      "Epoch 61, Test loss 0.8487\n",
      "Epoch 62, Test loss 1.0120\n",
      "Epoch 63, Test loss 0.9548\n",
      "Epoch 64, Test loss 0.8897\n",
      "Epoch 65, Test loss 0.8208\n",
      "Epoch 66, Test loss 0.9219\n",
      "Epoch 67, Test loss 0.8417\n",
      "Epoch 68, Test loss 0.9481\n",
      "Epoch 69, Test loss 0.8957\n",
      "Epoch 70, Test loss 0.8403\n",
      "Epoch 71, Test loss 0.9543\n",
      "Epoch 72, Test loss 0.9278\n",
      "Epoch 73, Test loss 0.9194\n",
      "Epoch 74, Test loss 0.8723\n",
      "Epoch 75, Test loss 0.8801\n",
      "Epoch 76, Test loss 0.8319\n",
      "Epoch 77, Test loss 0.9140\n",
      "Epoch 78, Test loss 0.9429\n",
      "Epoch 79, Test loss 0.8782\n",
      "Epoch 80, Test loss 0.8830\n",
      "Epoch 81, Test loss 0.9542\n",
      "Epoch 82, Test loss 0.9224\n",
      "Epoch 83, Test loss 0.9006\n",
      "Epoch 84, Test loss 0.9044\n",
      "Epoch 85, Test loss 0.9302\n",
      "Epoch 86, Test loss 0.9060\n",
      "Epoch 87, Test loss 0.9158\n",
      "Epoch 88, Test loss 0.9388\n",
      "Epoch 89, Test loss 0.9562\n",
      "Epoch 90, Test loss 0.9121\n",
      "Epoch 91, Test loss 0.9337\n",
      "Epoch 92, Test loss 0.9119\n",
      "Epoch 93, Test loss 0.9077\n",
      "Epoch 94, Test loss 0.8349\n",
      "Epoch 95, Test loss 0.8873\n",
      "Epoch 96, Test loss 0.8713\n",
      "Epoch 97, Test loss 0.8879\n",
      "Epoch 98, Test loss 0.9471\n",
      "Epoch 99, Test loss 0.9080\n"
     ]
    }
   ],
   "source": [
    "train_losses4, test_losses4 = train_epochs_ssl(model, train_data, test_data,\n",
    "                                       dict(epochs=100, lr=1e-3))"
   ]
  },
  {
   "cell_type": "code",
   "execution_count": 102,
   "metadata": {},
   "outputs": [
    {
     "name": "stdout",
     "output_type": "stream",
     "text": [
      "Epoch 0, Test loss 0.8770\n",
      "Epoch 1, Test loss 0.8133\n",
      "Epoch 2, Test loss 0.9001\n",
      "Epoch 3, Test loss 0.8899\n",
      "Epoch 4, Test loss 0.8898\n",
      "Epoch 5, Test loss 0.8984\n",
      "Epoch 6, Test loss 0.9111\n",
      "Epoch 7, Test loss 0.8456\n",
      "Epoch 8, Test loss 0.9540\n",
      "Epoch 9, Test loss 0.9364\n",
      "Epoch 10, Test loss 0.8976\n",
      "Epoch 11, Test loss 0.9443\n",
      "Epoch 12, Test loss 0.9019\n",
      "Epoch 13, Test loss 0.9336\n",
      "Epoch 14, Test loss 0.9007\n",
      "Epoch 15, Test loss 0.9223\n",
      "Epoch 16, Test loss 0.8445\n",
      "Epoch 17, Test loss 0.8830\n",
      "Epoch 18, Test loss 0.8982\n",
      "Epoch 19, Test loss 0.8027\n",
      "Epoch 20, Test loss 0.8919\n",
      "Epoch 21, Test loss 0.9132\n",
      "Epoch 22, Test loss 0.8371\n",
      "Epoch 23, Test loss 0.8919\n",
      "Epoch 24, Test loss 0.9551\n",
      "Epoch 25, Test loss 0.8611\n",
      "Epoch 26, Test loss 0.9340\n",
      "Epoch 27, Test loss 0.9119\n",
      "Epoch 28, Test loss 0.9297\n",
      "Epoch 29, Test loss 0.9084\n",
      "Epoch 30, Test loss 0.8957\n",
      "Epoch 31, Test loss 0.9222\n",
      "Epoch 32, Test loss 0.8697\n",
      "Epoch 33, Test loss 0.8626\n",
      "Epoch 34, Test loss 0.9264\n",
      "Epoch 35, Test loss 0.9006\n",
      "Epoch 36, Test loss 0.9656\n",
      "Epoch 37, Test loss 0.8668\n",
      "Epoch 38, Test loss 0.8095\n",
      "Epoch 39, Test loss 0.9132\n",
      "Epoch 40, Test loss 0.8487\n",
      "Epoch 41, Test loss 0.8604\n",
      "Epoch 42, Test loss 0.9476\n",
      "Epoch 43, Test loss 0.9327\n",
      "Epoch 44, Test loss 0.9229\n",
      "Epoch 45, Test loss 0.8829\n",
      "Epoch 46, Test loss 0.8420\n",
      "Epoch 47, Test loss 0.8804\n",
      "Epoch 48, Test loss 0.9160\n",
      "Epoch 49, Test loss 0.8951\n",
      "Epoch 50, Test loss 0.9700\n",
      "Epoch 51, Test loss 0.8911\n",
      "Epoch 52, Test loss 0.8994\n",
      "Epoch 53, Test loss 0.9323\n",
      "Epoch 54, Test loss 0.8447\n",
      "Epoch 55, Test loss 0.8609\n",
      "Epoch 56, Test loss 0.9156\n",
      "Epoch 57, Test loss 0.8504\n",
      "Epoch 58, Test loss 0.9285\n",
      "Epoch 59, Test loss 0.9001\n",
      "Epoch 60, Test loss 0.8794\n",
      "Epoch 61, Test loss 0.9230\n",
      "Epoch 62, Test loss 0.9104\n",
      "Epoch 63, Test loss 0.9758\n",
      "Epoch 64, Test loss 0.8860\n",
      "Epoch 65, Test loss 0.7760\n",
      "Epoch 66, Test loss 0.8708\n",
      "Epoch 67, Test loss 0.8136\n",
      "Epoch 68, Test loss 0.8197\n",
      "Epoch 69, Test loss 0.9307\n",
      "Epoch 70, Test loss 0.8751\n",
      "Epoch 71, Test loss 0.9407\n",
      "Epoch 72, Test loss 0.9192\n",
      "Epoch 73, Test loss 0.8297\n",
      "Epoch 74, Test loss 0.9176\n",
      "Epoch 75, Test loss 0.9744\n",
      "Epoch 76, Test loss 0.9391\n",
      "Epoch 77, Test loss 0.8381\n",
      "Epoch 78, Test loss 0.8958\n",
      "Epoch 79, Test loss 0.8116\n",
      "Epoch 80, Test loss 0.8913\n",
      "Epoch 81, Test loss 0.9577\n",
      "Epoch 82, Test loss 0.8750\n",
      "Epoch 83, Test loss 0.9198\n",
      "Epoch 84, Test loss 0.8692\n",
      "Epoch 85, Test loss 0.9163\n",
      "Epoch 86, Test loss 0.8757\n",
      "Epoch 87, Test loss 0.9014\n",
      "Epoch 88, Test loss 0.8953\n",
      "Epoch 89, Test loss 0.8355\n",
      "Epoch 90, Test loss 0.8565\n",
      "Epoch 91, Test loss 0.8318\n",
      "Epoch 92, Test loss 0.8673\n",
      "Epoch 93, Test loss 0.9529\n",
      "Epoch 94, Test loss 0.8631\n",
      "Epoch 95, Test loss 0.9355\n",
      "Epoch 96, Test loss 0.8284\n",
      "Epoch 97, Test loss 0.8520\n",
      "Epoch 98, Test loss 0.9224\n",
      "Epoch 99, Test loss 0.8232\n"
     ]
    }
   ],
   "source": [
    "train_losses5, test_losses5 = train_epochs_ssl(model, train_data, test_data,\n",
    "                                       dict(epochs=100, lr=5e-4))"
   ]
  },
  {
   "cell_type": "code",
   "execution_count": 104,
   "metadata": {},
   "outputs": [],
   "source": [
    "torch.save(model.state_dict(), 'model.h')"
   ]
  },
  {
   "cell_type": "markdown",
   "metadata": {},
   "source": [
    "## Linear Layer"
   ]
  },
  {
   "cell_type": "code",
   "execution_count": 147,
   "metadata": {},
   "outputs": [],
   "source": [
    "class SSL_Linear(nn.Module):\n",
    "  def __init__(self, model):\n",
    "    super().__init__()\n",
    "    self.model = model\n",
    "    self.model.requires_grad = False\n",
    "    self.linear = nn.Linear(100, 5)\n",
    "    self.loss_fn = nn.CrossEntropyLoss()\n",
    "\n",
    "  def forward(self, x):\n",
    "    with torch.no_grad():\n",
    "      features = self.model.feature_extractor(x)\n",
    "    out = self.linear(features)\n",
    "    return out\n",
    "\n",
    "  def loss(self, x, y_true):\n",
    "    out = self(x)\n",
    "    return self.loss_fn(out, y_true)"
   ]
  },
  {
   "cell_type": "code",
   "execution_count": 148,
   "metadata": {},
   "outputs": [],
   "source": [
    "def train_linear_ssl(epochs_train, epochs_test):\n",
    "  X_train = normalize(epochs_train.get_data())\n",
    "  y_train = epochs_train.events[:, 2] - 1 # start at 0\n",
    "\n",
    "  X_test = normalize(epochs_test.get_data())\n",
    "  y_test = epochs_test.events[:, 2] - 1\n",
    "  \n",
    "  linear_model = SSL_Linear(model).cuda()\n",
    "\n",
    "  train_dataset = data.TensorDataset(torch.tensor(X_train).unsqueeze(1), torch.tensor(y_train))\n",
    "  train_loader = data.DataLoader(train_dataset, batch_size=256, shuffle=True)\n",
    "\n",
    "  test_dataset = data.TensorDataset(torch.tensor(X_test).unsqueeze(1), torch.tensor(y_test))\n",
    "  test_loader = data.DataLoader(test_dataset, batch_size=256, shuffle=True)\n",
    "\n",
    "  train_losses, test_losses = train_epochs(linear_model, train_loader, test_loader, \n",
    "                                         dict(epochs=5, lr=1e-3))\n",
    "\n",
    "  return train_losses, test_losses, linear_model"
   ]
  },
  {
   "cell_type": "code",
   "execution_count": 149,
   "metadata": {},
   "outputs": [
    {
     "name": "stdout",
     "output_type": "stream",
     "text": [
      "Epoch 0, Test loss 0.5934\n",
      "Epoch 1, Test loss 0.4655\n",
      "Epoch 2, Test loss 0.4147\n",
      "Epoch 3, Test loss 0.3893\n",
      "Epoch 4, Test loss 0.3760\n"
     ]
    }
   ],
   "source": [
    "train_losses_linear, test_losses_linear, linear_model = train_linear_ssl(epochs_train, epochs_test)"
   ]
  },
  {
   "cell_type": "code",
   "execution_count": 150,
   "metadata": {},
   "outputs": [],
   "source": [
    "X_test = normalize(epochs_test.get_data())\n",
    "y_test = epochs_test.events[:, 2] - 1\n",
    "\n",
    "test_dataset = data.TensorDataset(torch.tensor(X_test).unsqueeze(1), torch.tensor(y_test))\n",
    "test_loader = data.DataLoader(test_dataset, batch_size=256, shuffle=True)"
   ]
  },
  {
   "cell_type": "code",
   "execution_count": 151,
   "metadata": {},
   "outputs": [],
   "source": [
    "import IPython\n",
    "e = IPython.embed"
   ]
  },
  {
   "cell_type": "code",
   "execution_count": 152,
   "metadata": {},
   "outputs": [],
   "source": [
    "def accuracy_score(linear_model, test_loader):\n",
    "  correct = 0\n",
    "  total = 0\n",
    "  linear_model.eval()\n",
    "  softmax = nn.Softmax()\n",
    "  with torch.no_grad():\n",
    "    for pair in test_loader:\n",
    "      x, y = pair[0], pair[1]\n",
    "      x = x.cuda().float().contiguous()\n",
    "      y = y.cuda().long().contiguous()\n",
    "      out = linear_model(x)\n",
    "      _, predicted = torch.max(softmax(out.data), 1)\n",
    "      total += y.size(0)\n",
    "      correct += (predicted == y).sum().item()\n",
    "\n",
    "  print(f'Accuracy of the network on the {len(test_loader.dataset)} test images: {round(100 * correct / total)}%')"
   ]
  },
  {
   "cell_type": "code",
   "execution_count": 153,
   "metadata": {},
   "outputs": [
    {
     "name": "stderr",
     "output_type": "stream",
     "text": [
      "/opt/conda/lib/python3.7/site-packages/ipykernel_launcher.py:12: UserWarning: Implicit dimension choice for softmax has been deprecated. Change the call to include dim=X as an argument.\n",
      "  if sys.path[0] == '':\n"
     ]
    },
    {
     "name": "stdout",
     "output_type": "stream",
     "text": [
      "Accuracy of the network on the 27295 test images: 86%\n"
     ]
    }
   ],
   "source": [
    "accuracy_score(linear_model, test_loader)"
   ]
  },
  {
   "cell_type": "markdown",
   "metadata": {},
   "source": [
    "## Others"
   ]
  },
  {
   "cell_type": "code",
   "execution_count": null,
   "metadata": {},
   "outputs": [],
   "source": [
    "raw_train.plot(duration=60, scalings='auto')"
   ]
  },
  {
   "cell_type": "code",
   "execution_count": null,
   "metadata": {},
   "outputs": [],
   "source": [
    "raw_train.plot_psd()"
   ]
  },
  {
   "cell_type": "code",
   "execution_count": null,
   "metadata": {},
   "outputs": [],
   "source": [
    "A = raw_train.pick_types(eeg=True)\n",
    "a = A[:][0]"
   ]
  }
 ],
 "metadata": {
  "environment": {
   "name": "pytorch-gpu.1-4.m46",
   "type": "gcloud",
   "uri": "gcr.io/deeplearning-platform-release/pytorch-gpu.1-4:m46"
  },
  "kernelspec": {
   "display_name": "Python 3",
   "language": "python",
   "name": "python3"
  },
  "language_info": {
   "codemirror_mode": {
    "name": "ipython",
    "version": 3
   },
   "file_extension": ".py",
   "mimetype": "text/x-python",
   "name": "python",
   "nbconvert_exporter": "python",
   "pygments_lexer": "ipython3",
   "version": "3.7.6"
  }
 },
 "nbformat": 4,
 "nbformat_minor": 4
}
